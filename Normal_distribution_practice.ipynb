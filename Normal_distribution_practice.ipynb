{
  "nbformat": 4,
  "nbformat_minor": 0,
  "metadata": {
    "colab": {
      "name": "Normal distribution practice.ipynb",
      "provenance": [],
      "authorship_tag": "ABX9TyOfzpsibpgweGS6+lpN2WT7",
      "include_colab_link": true
    },
    "kernelspec": {
      "name": "python3",
      "display_name": "Python 3"
    },
    "language_info": {
      "name": "python"
    }
  },
  "cells": [
    {
      "cell_type": "markdown",
      "metadata": {
        "id": "view-in-github",
        "colab_type": "text"
      },
      "source": [
        "<a href=\"https://colab.research.google.com/github/gurpinder95/my-1st-Data-science/blob/main/Normal_distribution_practice.ipynb\" target=\"_parent\"><img src=\"https://colab.research.google.com/assets/colab-badge.svg\" alt=\"Open In Colab\"/></a>"
      ]
    },
    {
      "cell_type": "code",
      "metadata": {
        "id": "dtKKJJAIjo8t"
      },
      "source": [
        "import pandas as pd\n",
        "import numpy as np\n",
        "from scipy import stats"
      ],
      "execution_count": 2,
      "outputs": []
    },
    {
      "cell_type": "code",
      "metadata": {
        "id": "SmW-PWbWjwEM"
      },
      "source": [
        "beml_df=pd.read_csv(\"BEML.csv\")\n",
        "glaxo_df=pd.read_csv(\"GLAXO.csv\")"
      ],
      "execution_count": 5,
      "outputs": []
    },
    {
      "cell_type": "code",
      "metadata": {
        "colab": {
          "base_uri": "https://localhost:8080/",
          "height": 419
        },
        "id": "qdWpoRQJtum7",
        "outputId": "c02ded7f-ba44-4d2e-94a7-8f2aa06002a5"
      },
      "source": [
        "beml_df"
      ],
      "execution_count": 6,
      "outputs": [
        {
          "output_type": "execute_result",
          "data": {
            "text/html": [
              "<div>\n",
              "<style scoped>\n",
              "    .dataframe tbody tr th:only-of-type {\n",
              "        vertical-align: middle;\n",
              "    }\n",
              "\n",
              "    .dataframe tbody tr th {\n",
              "        vertical-align: top;\n",
              "    }\n",
              "\n",
              "    .dataframe thead th {\n",
              "        text-align: right;\n",
              "    }\n",
              "</style>\n",
              "<table border=\"1\" class=\"dataframe\">\n",
              "  <thead>\n",
              "    <tr style=\"text-align: right;\">\n",
              "      <th></th>\n",
              "      <th>Date</th>\n",
              "      <th>Open</th>\n",
              "      <th>High</th>\n",
              "      <th>Low</th>\n",
              "      <th>Last</th>\n",
              "      <th>Close</th>\n",
              "      <th>Total Trade Quantity</th>\n",
              "      <th>Turnover (Lacs)</th>\n",
              "    </tr>\n",
              "  </thead>\n",
              "  <tbody>\n",
              "    <tr>\n",
              "      <th>0</th>\n",
              "      <td>2010-01-04</td>\n",
              "      <td>1121.00</td>\n",
              "      <td>1151.00</td>\n",
              "      <td>1121.00</td>\n",
              "      <td>1134.00</td>\n",
              "      <td>1135.60</td>\n",
              "      <td>101651.0</td>\n",
              "      <td>1157.18</td>\n",
              "    </tr>\n",
              "    <tr>\n",
              "      <th>1</th>\n",
              "      <td>2010-01-05</td>\n",
              "      <td>1146.80</td>\n",
              "      <td>1149.00</td>\n",
              "      <td>1128.75</td>\n",
              "      <td>1135.00</td>\n",
              "      <td>1134.60</td>\n",
              "      <td>59504.0</td>\n",
              "      <td>676.47</td>\n",
              "    </tr>\n",
              "    <tr>\n",
              "      <th>2</th>\n",
              "      <td>2010-01-06</td>\n",
              "      <td>1140.00</td>\n",
              "      <td>1164.25</td>\n",
              "      <td>1130.05</td>\n",
              "      <td>1137.00</td>\n",
              "      <td>1139.60</td>\n",
              "      <td>128908.0</td>\n",
              "      <td>1482.84</td>\n",
              "    </tr>\n",
              "    <tr>\n",
              "      <th>3</th>\n",
              "      <td>2010-01-07</td>\n",
              "      <td>1142.00</td>\n",
              "      <td>1159.40</td>\n",
              "      <td>1119.20</td>\n",
              "      <td>1141.00</td>\n",
              "      <td>1144.15</td>\n",
              "      <td>117871.0</td>\n",
              "      <td>1352.98</td>\n",
              "    </tr>\n",
              "    <tr>\n",
              "      <th>4</th>\n",
              "      <td>2010-01-08</td>\n",
              "      <td>1156.00</td>\n",
              "      <td>1172.00</td>\n",
              "      <td>1140.00</td>\n",
              "      <td>1141.20</td>\n",
              "      <td>1144.05</td>\n",
              "      <td>170063.0</td>\n",
              "      <td>1971.42</td>\n",
              "    </tr>\n",
              "    <tr>\n",
              "      <th>...</th>\n",
              "      <td>...</td>\n",
              "      <td>...</td>\n",
              "      <td>...</td>\n",
              "      <td>...</td>\n",
              "      <td>...</td>\n",
              "      <td>...</td>\n",
              "      <td>...</td>\n",
              "      <td>...</td>\n",
              "    </tr>\n",
              "    <tr>\n",
              "      <th>1734</th>\n",
              "      <td>2016-12-26</td>\n",
              "      <td>965.00</td>\n",
              "      <td>965.05</td>\n",
              "      <td>935.00</td>\n",
              "      <td>950.10</td>\n",
              "      <td>950.25</td>\n",
              "      <td>398696.0</td>\n",
              "      <td>3783.63</td>\n",
              "    </tr>\n",
              "    <tr>\n",
              "      <th>1735</th>\n",
              "      <td>2016-12-27</td>\n",
              "      <td>960.70</td>\n",
              "      <td>989.00</td>\n",
              "      <td>952.35</td>\n",
              "      <td>974.00</td>\n",
              "      <td>975.70</td>\n",
              "      <td>808561.0</td>\n",
              "      <td>7885.14</td>\n",
              "    </tr>\n",
              "    <tr>\n",
              "      <th>1736</th>\n",
              "      <td>2016-12-28</td>\n",
              "      <td>980.75</td>\n",
              "      <td>985.00</td>\n",
              "      <td>970.15</td>\n",
              "      <td>977.00</td>\n",
              "      <td>974.40</td>\n",
              "      <td>367041.0</td>\n",
              "      <td>3592.49</td>\n",
              "    </tr>\n",
              "    <tr>\n",
              "      <th>1737</th>\n",
              "      <td>2016-12-29</td>\n",
              "      <td>977.10</td>\n",
              "      <td>997.95</td>\n",
              "      <td>974.55</td>\n",
              "      <td>985.15</td>\n",
              "      <td>986.05</td>\n",
              "      <td>555233.0</td>\n",
              "      <td>5489.14</td>\n",
              "    </tr>\n",
              "    <tr>\n",
              "      <th>1738</th>\n",
              "      <td>2016-12-30</td>\n",
              "      <td>986.00</td>\n",
              "      <td>1006.95</td>\n",
              "      <td>985.90</td>\n",
              "      <td>1004.00</td>\n",
              "      <td>1000.60</td>\n",
              "      <td>460675.0</td>\n",
              "      <td>4606.48</td>\n",
              "    </tr>\n",
              "  </tbody>\n",
              "</table>\n",
              "<p>1739 rows × 8 columns</p>\n",
              "</div>"
            ],
            "text/plain": [
              "            Date     Open  ...  Total Trade Quantity  Turnover (Lacs)\n",
              "0     2010-01-04  1121.00  ...              101651.0          1157.18\n",
              "1     2010-01-05  1146.80  ...               59504.0           676.47\n",
              "2     2010-01-06  1140.00  ...              128908.0          1482.84\n",
              "3     2010-01-07  1142.00  ...              117871.0          1352.98\n",
              "4     2010-01-08  1156.00  ...              170063.0          1971.42\n",
              "...          ...      ...  ...                   ...              ...\n",
              "1734  2016-12-26   965.00  ...              398696.0          3783.63\n",
              "1735  2016-12-27   960.70  ...              808561.0          7885.14\n",
              "1736  2016-12-28   980.75  ...              367041.0          3592.49\n",
              "1737  2016-12-29   977.10  ...              555233.0          5489.14\n",
              "1738  2016-12-30   986.00  ...              460675.0          4606.48\n",
              "\n",
              "[1739 rows x 8 columns]"
            ]
          },
          "metadata": {
            "tags": []
          },
          "execution_count": 6
        }
      ]
    },
    {
      "cell_type": "code",
      "metadata": {
        "colab": {
          "base_uri": "https://localhost:8080/",
          "height": 419
        },
        "id": "pXchGiIgvJpQ",
        "outputId": "4232d337-b86f-4516-fa9e-29a67d4c181b"
      },
      "source": [
        "#filterng date close as we are looking for gain\n",
        "beml_df[[\"Date\",\"Close\"]]"
      ],
      "execution_count": 7,
      "outputs": [
        {
          "output_type": "execute_result",
          "data": {
            "text/html": [
              "<div>\n",
              "<style scoped>\n",
              "    .dataframe tbody tr th:only-of-type {\n",
              "        vertical-align: middle;\n",
              "    }\n",
              "\n",
              "    .dataframe tbody tr th {\n",
              "        vertical-align: top;\n",
              "    }\n",
              "\n",
              "    .dataframe thead th {\n",
              "        text-align: right;\n",
              "    }\n",
              "</style>\n",
              "<table border=\"1\" class=\"dataframe\">\n",
              "  <thead>\n",
              "    <tr style=\"text-align: right;\">\n",
              "      <th></th>\n",
              "      <th>Date</th>\n",
              "      <th>Close</th>\n",
              "    </tr>\n",
              "  </thead>\n",
              "  <tbody>\n",
              "    <tr>\n",
              "      <th>0</th>\n",
              "      <td>2010-01-04</td>\n",
              "      <td>1135.60</td>\n",
              "    </tr>\n",
              "    <tr>\n",
              "      <th>1</th>\n",
              "      <td>2010-01-05</td>\n",
              "      <td>1134.60</td>\n",
              "    </tr>\n",
              "    <tr>\n",
              "      <th>2</th>\n",
              "      <td>2010-01-06</td>\n",
              "      <td>1139.60</td>\n",
              "    </tr>\n",
              "    <tr>\n",
              "      <th>3</th>\n",
              "      <td>2010-01-07</td>\n",
              "      <td>1144.15</td>\n",
              "    </tr>\n",
              "    <tr>\n",
              "      <th>4</th>\n",
              "      <td>2010-01-08</td>\n",
              "      <td>1144.05</td>\n",
              "    </tr>\n",
              "    <tr>\n",
              "      <th>...</th>\n",
              "      <td>...</td>\n",
              "      <td>...</td>\n",
              "    </tr>\n",
              "    <tr>\n",
              "      <th>1734</th>\n",
              "      <td>2016-12-26</td>\n",
              "      <td>950.25</td>\n",
              "    </tr>\n",
              "    <tr>\n",
              "      <th>1735</th>\n",
              "      <td>2016-12-27</td>\n",
              "      <td>975.70</td>\n",
              "    </tr>\n",
              "    <tr>\n",
              "      <th>1736</th>\n",
              "      <td>2016-12-28</td>\n",
              "      <td>974.40</td>\n",
              "    </tr>\n",
              "    <tr>\n",
              "      <th>1737</th>\n",
              "      <td>2016-12-29</td>\n",
              "      <td>986.05</td>\n",
              "    </tr>\n",
              "    <tr>\n",
              "      <th>1738</th>\n",
              "      <td>2016-12-30</td>\n",
              "      <td>1000.60</td>\n",
              "    </tr>\n",
              "  </tbody>\n",
              "</table>\n",
              "<p>1739 rows × 2 columns</p>\n",
              "</div>"
            ],
            "text/plain": [
              "            Date    Close\n",
              "0     2010-01-04  1135.60\n",
              "1     2010-01-05  1134.60\n",
              "2     2010-01-06  1139.60\n",
              "3     2010-01-07  1144.15\n",
              "4     2010-01-08  1144.05\n",
              "...          ...      ...\n",
              "1734  2016-12-26   950.25\n",
              "1735  2016-12-27   975.70\n",
              "1736  2016-12-28   974.40\n",
              "1737  2016-12-29   986.05\n",
              "1738  2016-12-30  1000.60\n",
              "\n",
              "[1739 rows x 2 columns]"
            ]
          },
          "metadata": {
            "tags": []
          },
          "execution_count": 7
        }
      ]
    },
    {
      "cell_type": "code",
      "metadata": {
        "id": "8RDiF4QpvcCB"
      },
      "source": [
        "#Lets store the above date close in variable bem1\n",
        "beml=beml_df[[\"Date\",\"Close\"]]  \n",
        "#same way storing for glaxo date close\n",
        "glaxo=glaxo_df[[\"Date\",\"Close\"]]"
      ],
      "execution_count": 8,
      "outputs": []
    },
    {
      "cell_type": "code",
      "metadata": {
        "colab": {
          "base_uri": "https://localhost:8080/"
        },
        "id": "NENirdGvwpGF",
        "outputId": "95106acf-4575-4c6a-c679-c40017a75c85"
      },
      "source": [
        "beml.dtypes\n",
        "glaxo.dtypes\n",
        "#Since date is an object here we need to convert it in datetime index to use it as indexing"
      ],
      "execution_count": 20,
      "outputs": [
        {
          "output_type": "execute_result",
          "data": {
            "text/plain": [
              "Date      object\n",
              "Close    float64\n",
              "dtype: object"
            ]
          },
          "metadata": {
            "tags": []
          },
          "execution_count": 20
        }
      ]
    },
    {
      "cell_type": "code",
      "metadata": {
        "id": "SK7p7xYTx6uh"
      },
      "source": [
        "#converting in Datetime Index\n",
        "bem1=beml.set_index(pd.DatetimeIndex(beml[\"Date\"]))\n",
        "glaxo=glaxo.set_index(pd.DatetimeIndex(glaxo[\"Date\"]))"
      ],
      "execution_count": 25,
      "outputs": []
    },
    {
      "cell_type": "code",
      "metadata": {
        "colab": {
          "base_uri": "https://localhost:8080/",
          "height": 450
        },
        "id": "6HPfRYDq05sR",
        "outputId": "76a64c80-b3ba-43c6-d729-96bcea05aeff"
      },
      "source": [
        "beml  #Now date is appearing as index also"
      ],
      "execution_count": 28,
      "outputs": [
        {
          "output_type": "execute_result",
          "data": {
            "text/html": [
              "<div>\n",
              "<style scoped>\n",
              "    .dataframe tbody tr th:only-of-type {\n",
              "        vertical-align: middle;\n",
              "    }\n",
              "\n",
              "    .dataframe tbody tr th {\n",
              "        vertical-align: top;\n",
              "    }\n",
              "\n",
              "    .dataframe thead th {\n",
              "        text-align: right;\n",
              "    }\n",
              "</style>\n",
              "<table border=\"1\" class=\"dataframe\">\n",
              "  <thead>\n",
              "    <tr style=\"text-align: right;\">\n",
              "      <th></th>\n",
              "      <th>Date</th>\n",
              "      <th>Close</th>\n",
              "    </tr>\n",
              "    <tr>\n",
              "      <th>Date</th>\n",
              "      <th></th>\n",
              "      <th></th>\n",
              "    </tr>\n",
              "  </thead>\n",
              "  <tbody>\n",
              "    <tr>\n",
              "      <th>2010-01-04</th>\n",
              "      <td>2010-01-04</td>\n",
              "      <td>1135.60</td>\n",
              "    </tr>\n",
              "    <tr>\n",
              "      <th>2010-01-05</th>\n",
              "      <td>2010-01-05</td>\n",
              "      <td>1134.60</td>\n",
              "    </tr>\n",
              "    <tr>\n",
              "      <th>2010-01-06</th>\n",
              "      <td>2010-01-06</td>\n",
              "      <td>1139.60</td>\n",
              "    </tr>\n",
              "    <tr>\n",
              "      <th>2010-01-07</th>\n",
              "      <td>2010-01-07</td>\n",
              "      <td>1144.15</td>\n",
              "    </tr>\n",
              "    <tr>\n",
              "      <th>2010-01-08</th>\n",
              "      <td>2010-01-08</td>\n",
              "      <td>1144.05</td>\n",
              "    </tr>\n",
              "    <tr>\n",
              "      <th>...</th>\n",
              "      <td>...</td>\n",
              "      <td>...</td>\n",
              "    </tr>\n",
              "    <tr>\n",
              "      <th>2016-12-26</th>\n",
              "      <td>2016-12-26</td>\n",
              "      <td>950.25</td>\n",
              "    </tr>\n",
              "    <tr>\n",
              "      <th>2016-12-27</th>\n",
              "      <td>2016-12-27</td>\n",
              "      <td>975.70</td>\n",
              "    </tr>\n",
              "    <tr>\n",
              "      <th>2016-12-28</th>\n",
              "      <td>2016-12-28</td>\n",
              "      <td>974.40</td>\n",
              "    </tr>\n",
              "    <tr>\n",
              "      <th>2016-12-29</th>\n",
              "      <td>2016-12-29</td>\n",
              "      <td>986.05</td>\n",
              "    </tr>\n",
              "    <tr>\n",
              "      <th>2016-12-30</th>\n",
              "      <td>2016-12-30</td>\n",
              "      <td>1000.60</td>\n",
              "    </tr>\n",
              "  </tbody>\n",
              "</table>\n",
              "<p>1739 rows × 2 columns</p>\n",
              "</div>"
            ],
            "text/plain": [
              "                  Date    Close\n",
              "Date                           \n",
              "2010-01-04  2010-01-04  1135.60\n",
              "2010-01-05  2010-01-05  1134.60\n",
              "2010-01-06  2010-01-06  1139.60\n",
              "2010-01-07  2010-01-07  1144.15\n",
              "2010-01-08  2010-01-08  1144.05\n",
              "...                ...      ...\n",
              "2016-12-26  2016-12-26   950.25\n",
              "2016-12-27  2016-12-27   975.70\n",
              "2016-12-28  2016-12-28   974.40\n",
              "2016-12-29  2016-12-29   986.05\n",
              "2016-12-30  2016-12-30  1000.60\n",
              "\n",
              "[1739 rows x 2 columns]"
            ]
          },
          "metadata": {
            "tags": []
          },
          "execution_count": 28
        }
      ]
    },
    {
      "cell_type": "code",
      "metadata": {
        "colab": {
          "base_uri": "https://localhost:8080/",
          "height": 279
        },
        "id": "GNNZrMqg1sSa",
        "outputId": "ec28df6b-1dc7-47c0-eb30-2d71451d2205"
      },
      "source": [
        "#Lets visualise the above data beml,glaxo in matplot graph\n",
        "import matplotlib.pyplot as plt\n",
        "import seaborn as sn\n",
        "%matplotlib inline \n",
        "plt.plot(beml.Close);  # Here indexing of close is Date so date and close will appear in graph\n",
        "plt.xlabel(\"Time\");\n",
        "plt.ylabel(\"Close\");\n",
        "plt.show()\n",
        "\n"
      ],
      "execution_count": 9,
      "outputs": [
        {
          "output_type": "display_data",
          "data": {
            "image/png": "[encoded data removed]",
            "text/plain": [
              "<Figure size 432x288 with 1 Axes>"
            ]
          },
          "metadata": {
            "tags": [],
            "needs_background": "light"
          }
        }
      ]
    },
    {
      "cell_type": "code",
      "metadata": {
        "colab": {
          "base_uri": "https://localhost:8080/",
          "height": 279
        },
        "id": "oJAPjGIO6HPL",
        "outputId": "e0a9e980-de42-4c2d-bc91-56a3c605b039"
      },
      "source": [
        "#Graph of glaxo\n",
        "plt.plot(glaxo.Close);  # Here indexing of close is Date so date and close will appear in graph\n",
        "plt.xlabel(\"Time\");\n",
        "plt.ylabel(\"Close\");\n",
        "plt.show()"
      ],
      "execution_count": 40,
      "outputs": [
        {
          "output_type": "display_data",
          "data": {
            "image/png": "[encoded data removed]",
            "text/plain": [
              "<Figure size 432x288 with 1 Axes>"
            ]
          },
          "metadata": {
            "tags": [],
            "needs_background": "light"
          }
        }
      ]
    },
    {
      "cell_type": "code",
      "metadata": {
        "colab": {
          "base_uri": "https://localhost:8080/"
        },
        "id": "Gbfz78ew67oB",
        "outputId": "51c0000e-8904-4b1d-ce6d-307e08044e7e"
      },
      "source": [
        "#Now lets add gain column in glaxo and beml\n",
        "glaxo[\"Gain\"]=glaxo.Close.pct_change(periods=1)   #Applying gain formula through percentage change,Actual calc formula for gain=(todayprice-yesterdayprice)/yesterdayprice\n",
        "beml[\"Gain\"]=beml.Close.pct_change(periods=1)"
      ],
      "execution_count": 12,
      "outputs": [
        {
          "output_type": "stream",
          "text": [
            "/usr/local/lib/python3.7/dist-packages/ipykernel_launcher.py:2: SettingWithCopyWarning: \n",
            "A value is trying to be set on a copy of a slice from a DataFrame.\n",
            "Try using .loc[row_indexer,col_indexer] = value instead\n",
            "\n",
            "See the caveats in the documentation: https://pandas.pydata.org/pandas-docs/stable/user_guide/indexing.html#returning-a-view-versus-a-copy\n",
            "  \n",
            "/usr/local/lib/python3.7/dist-packages/ipykernel_launcher.py:3: SettingWithCopyWarning: \n",
            "A value is trying to be set on a copy of a slice from a DataFrame.\n",
            "Try using .loc[row_indexer,col_indexer] = value instead\n",
            "\n",
            "See the caveats in the documentation: https://pandas.pydata.org/pandas-docs/stable/user_guide/indexing.html#returning-a-view-versus-a-copy\n",
            "  This is separate from the ipykernel package so we can avoid doing imports until\n"
          ],
          "name": "stderr"
        }
      ]
    },
    {
      "cell_type": "code",
      "metadata": {
        "colab": {
          "base_uri": "https://localhost:8080/"
        },
        "id": "8V3BoOFw78GM",
        "outputId": "eaf48af1-0d09-41ae-e843-8bf1cbbe54aa"
      },
      "source": [
        "glaxo[\"Gain\"]"
      ],
      "execution_count": 13,
      "outputs": [
        {
          "output_type": "execute_result",
          "data": {
            "text/plain": [
              "0            NaN\n",
              "1      -0.005444\n",
              "2       0.013422\n",
              "3       0.006225\n",
              "4      -0.005398\n",
              "          ...   \n",
              "1734   -0.001283\n",
              "1735   -0.007986\n",
              "1736    0.000148\n",
              "1737    0.009529\n",
              "1738    0.000697\n",
              "Name: Gain, Length: 1739, dtype: float64"
            ]
          },
          "metadata": {
            "tags": []
          },
          "execution_count": 13
        }
      ]
    },
    {
      "cell_type": "code",
      "metadata": {
        "colab": {
          "base_uri": "https://localhost:8080/",
          "height": 350
        },
        "id": "6maW4VLi_yId",
        "outputId": "47dcaefd-cb6c-4a65-b9ee-83fa956f38fd"
      },
      "source": [
        "#lets do sn distplot on glaxo\n",
        "sn.distplot(glaxo.Gain,label=\"Glaxo\",kde=True)\n",
        "plt.xlabel(\"Gain\")\n"
      ],
      "execution_count": 14,
      "outputs": [
        {
          "output_type": "stream",
          "text": [
            "/usr/local/lib/python3.7/dist-packages/seaborn/distributions.py:2557: FutureWarning: `distplot` is a deprecated function and will be removed in a future version. Please adapt your code to use either `displot` (a figure-level function with similar flexibility) or `histplot` (an axes-level function for histograms).\n",
            "  warnings.warn(msg, FutureWarning)\n"
          ],
          "name": "stderr"
        },
        {
          "output_type": "execute_result",
          "data": {
            "text/plain": [
              "Text(0.5, 0, 'Gain')"
            ]
          },
          "metadata": {
            "tags": []
          },
          "execution_count": 14
        },
        {
          "output_type": "display_data",
          "data": {
            "image/png": "[encoded data removed]",
            "text/plain": [
              "<Figure size 432x288 with 1 Axes>"
            ]
          },
          "metadata": {
            "tags": [],
            "needs_background": "light"
          }
        }
      ]
    },
    {
      "cell_type": "code",
      "metadata": {
        "colab": {
          "base_uri": "https://localhost:8080/",
          "height": 350
        },
        "id": "dXvxui7Wixjl",
        "outputId": "f3c624da-37de-4948-d1c4-fbf1ef13e47b"
      },
      "source": [
        "#lets do sn distplot on beml\n",
        "sn.distplot(beml.Gain,label=\"BEML\",kde=True)\n",
        "plt.xlabel(\"Gain\")\n",
        "\n"
      ],
      "execution_count": 15,
      "outputs": [
        {
          "output_type": "stream",
          "text": [
            "/usr/local/lib/python3.7/dist-packages/seaborn/distributions.py:2557: FutureWarning: `distplot` is a deprecated function and will be removed in a future version. Please adapt your code to use either `displot` (a figure-level function with similar flexibility) or `histplot` (an axes-level function for histograms).\n",
            "  warnings.warn(msg, FutureWarning)\n"
          ],
          "name": "stderr"
        },
        {
          "output_type": "execute_result",
          "data": {
            "text/plain": [
              "Text(0.5, 0, 'Gain')"
            ]
          },
          "metadata": {
            "tags": []
          },
          "execution_count": 15
        },
        {
          "output_type": "display_data",
          "data": {
            "image/png": "[encoded data removed]",
            "text/plain": [
              "<Figure size 432x288 with 1 Axes>"
            ]
          },
          "metadata": {
            "tags": [],
            "needs_background": "light"
          }
        }
      ]
    },
    {
      "cell_type": "code",
      "metadata": {
        "colab": {
          "base_uri": "https://localhost:8080/"
        },
        "id": "sMtc8bwQk01I",
        "outputId": "b5ce1113-35d9-4194-ed7f-3b8a282d837c"
      },
      "source": [
        "#lets get the mean and Std deviation of glaxo Gain\n",
        "print(\"Mean\",round(glaxo.Gain.mean(),4))\n",
        "print(\"Std dev\",round(glaxo.Gain.std(),4))\n"
      ],
      "execution_count": 22,
      "outputs": [
        {
          "output_type": "stream",
          "text": [
            "Mean 0.0004\n",
            "Std dev 0.0134\n"
          ],
          "name": "stdout"
        }
      ]
    },
    {
      "cell_type": "code",
      "metadata": {
        "colab": {
          "base_uri": "https://localhost:8080/"
        },
        "id": "6u0JSFrNnSqg",
        "outputId": "09ce9801-4af5-4968-f147-89a903b9e744"
      },
      "source": [
        "#lets get the mean and Std deviation of beml Gain\n",
        "print(\"Mean\",round(beml.Gain.mean(),4))\n",
        "print(\"Std dev\",round(beml.Gain.std(),4))"
      ],
      "execution_count": 23,
      "outputs": [
        {
          "output_type": "stream",
          "text": [
            "Mean 0.0003\n",
            "Std dev 0.0264\n"
          ],
          "name": "stdout"
        }
      ]
    },
    {
      "cell_type": "code",
      "metadata": {
        "colab": {
          "base_uri": "https://localhost:8080/"
        },
        "id": "YEUJvea2pAdd",
        "outputId": "d776fe1a-4425-4802-e49c-c82759b7faff"
      },
      "source": [
        "#Now we have both data mean and std dev we can calaculate the probability\n",
        "#Probabaility of making 2% loss or higher in glaxo\n",
        "stats.norm.cdf(-0.02,loc=glaxo.Gain.mean(),scale=glaxo.Gain.std())\n",
        "\n"
      ],
      "execution_count": 28,
      "outputs": [
        {
          "output_type": "execute_result",
          "data": {
            "text/plain": [
              "0.06352488667177397"
            ]
          },
          "metadata": {
            "tags": []
          },
          "execution_count": 28
        }
      ]
    },
    {
      "cell_type": "code",
      "metadata": {
        "colab": {
          "base_uri": "https://localhost:8080/"
        },
        "id": "GMH5sJbHp4wU",
        "outputId": "db465d56-e4b1-40b3-dc42-c6d1b2ac2f1c"
      },
      "source": [
        "#Probabaility of making 2% gain or higher in glaxo\n",
        "1-stats.norm.cdf(0.02,loc=glaxo.Gain.mean(),scale=glaxo.Gain.std())"
      ],
      "execution_count": 29,
      "outputs": [
        {
          "output_type": "execute_result",
          "data": {
            "text/plain": [
              "0.07104511457618568"
            ]
          },
          "metadata": {
            "tags": []
          },
          "execution_count": 29
        }
      ]
    }
  ]
}